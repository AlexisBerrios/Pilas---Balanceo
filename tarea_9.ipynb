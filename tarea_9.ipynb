{
  "nbformat": 4,
  "nbformat_minor": 0,
  "metadata": {
    "colab": {
      "name": "tarea 9.ipynb",
      "provenance": []
    },
    "kernelspec": {
      "name": "python3",
      "display_name": "Python 3"
    },
    "language_info": {
      "name": "python"
    }
  },
  "cells": [
    {
      "cell_type": "code",
      "metadata": {
        "id": "5sKFkeMuXkZQ"
      },
      "source": [
        "class StackADT:\n",
        "    def __init__(self):\n",
        "        self.__data = list()\n",
        "\n",
        "    def is_empty(self):\n",
        "        return len(self.__data) == 0\n",
        "    \n",
        "    def get_length(self):\n",
        "        return len(self.__data)\n",
        "\n",
        "    def pop(self):\n",
        "        if self.is_empty():\n",
        "            print(\"Pila vacía, nada que sacar\")\n",
        "        else:\n",
        "            return self.__data.pop()\n",
        "\n",
        "    def peek(self):\n",
        "        if self.is_empty():\n",
        "            print(\"Pila vacía, nada que sacar\")\n",
        "        else :\n",
        "            return self.__data[-1]\n",
        "    \n",
        "    def push(self, value):\n",
        "        self.__data.append(value)\n",
        "\n",
        "    def to_string(self):\n",
        "        for item in self.__data[::-1]:\n",
        "            print(f'| { item } |')"
      ],
      "execution_count": 16,
      "outputs": []
    },
    {
      "cell_type": "code",
      "metadata": {
        "colab": {
          "base_uri": "https://localhost:8080/"
        },
        "id": "Db8MBlDrXrtf",
        "outputId": "091d53c1-cfb6-41f9-d294-4a79267f326f"
      },
      "source": [
        "\"\"\"\n",
        "1.- Hacer unprograma que impemente el algoritmo de pila vacía para verificar balanceo de llaves ( '{' y '}') y balanceo de parénteisis ( '(' y ')') para codigo de programacion C y, C++ y Java.\n",
        "\n",
        "Tiene que detener el análisis cuando se detcte que los parecentesis o llaves estan desbalanceados.\n",
        "\n",
        "Idealmente (No obligatorio) encapsular esta lógica en una clase (ADT) de la POO.\n",
        "\"\"\"\n",
        "#el archivo usado (el mismo de la clase) se encuentra en la siguiente liga\n",
        "#https://github.com/AlexisBerrios/tarea-9/blob/main/prog2.txt\n",
        "entrada= open('prog2.txt', 'rt') \n",
        "codigo = entrada.read()\n",
        "pilaControl=StackADT()\n",
        "# \"#\"Caracter de pila vacía\n",
        "pilaControl.push(\"#\") \n",
        "\n",
        "for letra in codigo:\n",
        "    if letra == '{':\n",
        "        pilaControl.push('{')  #1er\n",
        "    elif letra == '}':\n",
        "        if pilaControl.peek() == '#':\n",
        "            pilaControl.push('{')\n",
        "            break \n",
        "        else:\n",
        "            basura = pilaControl.pop()\n",
        "    elif letra == '(':\n",
        "        pilaControl.push('(') #1er\n",
        "    elif letra == ')':\n",
        "        if pilaControl.peek() == '#':\n",
        "            pilaControl.push('(')\n",
        "            break \n",
        "        else:\n",
        "            basura = pilaControl.pop() \n",
        "    else:\n",
        "        pass\n",
        " \n",
        "if pilaControl.peek() == '#':\n",
        "    print(\"El código proporcionado esta correctamente balanceado\")\n",
        "else :\n",
        "    print(\"El código no esta balanceado en llaves { y } o en paréntesis ( y ) de manera correcta\")"
      ],
      "execution_count": 19,
      "outputs": [
        {
          "output_type": "stream",
          "name": "stdout",
          "text": [
            "El código proporcionado esta correctamente balanceado\n"
          ]
        }
      ]
    }
  ]
}